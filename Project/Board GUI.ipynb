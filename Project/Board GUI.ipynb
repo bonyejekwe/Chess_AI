{
 "cells": [
  {
   "cell_type": "code",
   "execution_count": 1,
   "id": "53077604",
   "metadata": {},
   "outputs": [],
   "source": [
    "# Ins\n",
    "#pip install pygame"
   ]
  },
  {
   "cell_type": "code",
   "execution_count": 7,
   "id": "4c8642ef",
   "metadata": {},
   "outputs": [],
   "source": [
    "import pandas as pd\n",
    "\n",
    "from game import *\n",
    "\n",
    "import pygame"
   ]
  },
  {
   "cell_type": "code",
   "execution_count": 5,
   "id": "f78ed203",
   "metadata": {},
   "outputs": [],
   "source": [
    "winners = []\n",
    "for _ in range(7):\n",
    "    result = run_game(1, mode1='random')  # run AI vs AI (change argument to 1 for player vs AI)\n",
    "    winners.append(result)\n",
    "    print(\"Winners\", winners)"
   ]
  },
  {
   "cell_type": "code",
   "execution_count": 3,
   "id": "19164c20",
   "metadata": {},
   "outputs": [],
   "source": [
    "# Resource:\n",
    "# https://stackoverflow.com/questions/45945254/make-a-88-chessboard-in-pygame-with-python/45948976"
   ]
  },
  {
   "cell_type": "code",
   "execution_count": 55,
   "id": "7a721067",
   "metadata": {},
   "outputs": [
    {
     "data": {
      "text/plain": [
       "<rect(0, 0, 800, 800)>"
      ]
     },
     "execution_count": 55,
     "metadata": {},
     "output_type": "execute_result"
    }
   ],
   "source": [
    "#pygame.init()\n",
    "\n",
    "# set color with rgb\n",
    "#white, black = (255,255,255), (0,0,0)\n",
    "\n",
    "# \"Brown\" colors from chess.com\n",
    "white, black = (240, 217, 181), (181, 136, 99)\n",
    "\n",
    "# Define the width, height, and cell size\n",
    "width, height = 800, 800\n",
    "cell_size = width / 8.0\n",
    "\n",
    "# set caption\n",
    "pygame.display.set_caption(\"Chess Board\")\n",
    "\n",
    "# Create the board surface\n",
    "board = pygame.Surface((width, height))\n",
    "# Fill it with white\n",
    "board.fill(white)"
   ]
  },
  {
   "cell_type": "code",
   "execution_count": 56,
   "id": "f3b48af7",
   "metadata": {},
   "outputs": [],
   "source": [
    "# Load the chess pieces image\n",
    "# Each chess piece is 200x200 in the image\n",
    "# Image source: https://commons.wikimedia.org/wiki/Category:SVG_chess_pieces"
   ]
  },
  {
   "cell_type": "code",
   "execution_count": 57,
   "id": "7585c89c",
   "metadata": {},
   "outputs": [],
   "source": [
    "# Draw black squares on the board\n",
    "# Loop through the x-axis\n",
    "for x in range(0, 8):\n",
    "    # Loop through the y-axis\n",
    "    for y in range(0, 8):\n",
    "        # If the \n",
    "        if (x + y) % 2 == 1:\n",
    "            pygame.draw.rect(board, black, (x*cell_size, y*cell_size, cell_size, cell_size))\n",
    "        "
   ]
  },
  {
   "cell_type": "code",
   "execution_count": 58,
   "id": "2cba3611",
   "metadata": {},
   "outputs": [],
   "source": [
    "# Define the possible pieces\n",
    "pos_pieces = ['king', 'queen', 'bishop', 'rook', 'horse', 'pawn']\n",
    "\n",
    "# Get the piece images\n",
    "white_pieces = {pos_pieces[i] : pygame.transform.scale(pygame.image.load(r'Piece Images/{}/{}.png'.format(\\\n",
    "                                        'white', pos_pieces[i])), (100, 100)) for i in range(len(pos_pieces))}\n",
    "\n",
    "# Get the piece images\n",
    "black_pieces = {pos_pieces[i] : pygame.transform.scale(pygame.image.load(r'Piece Images/{}/{}.png'.format(\\\n",
    "                                        'black', pos_pieces[i])), (100, 100)) for i in range(len(pos_pieces))}\n",
    "\n",
    "white_piece_locations = {'king': [[4, 7]], 'queen' : [[3, 7]], 'bishop' : [[2, 7], [5, 7]],\n",
    "                        'horse' : [[1, 7], [6, 7]], 'rook' : [[0,7], [7,7]],\n",
    "                        'pawn': [[i, 6] for i in range(8)]}\n",
    "\n",
    "black_piece_locations = {'king': [[4, 0]], 'queen' : [[3, 0]], 'bishop' : [[2, 0], [5, 0]],\n",
    "                        'horse' : [[1, 0], [6, 0]], 'rook' : [[0, 0], [7, 0]],\n",
    "                        'pawn': [[i, 1] for i in range(8)]}\n"
   ]
  },
  {
   "cell_type": "code",
   "execution_count": 59,
   "id": "71557570",
   "metadata": {},
   "outputs": [],
   "source": [
    "# Define a dictionary of letters to map\n",
    "letters_map = {0 : 'A', 1 : 'B', 2 : 'C', 3 : 'D', 4 : 'E', 5 : 'F', 6 : 'G', 7 : 'H'}\n",
    "\n",
    "# Define the color of a chosen square\n",
    "chosen_color = (54, 173, 74)"
   ]
  },
  {
   "cell_type": "code",
   "execution_count": 62,
   "id": "c60004f5",
   "metadata": {},
   "outputs": [],
   "source": [
    "# Logic to quit the game\n",
    "game_exit = False\n",
    "\n",
    "# set display\n",
    "gameDisplay = pygame.display.set_mode((width, height))\n",
    "\n",
    "# Set the variable for if a new move has been chosen\n",
    "piece_to_move_chosen = False\n",
    "\n",
    "chosen_piece = []\n",
    "\n",
    "# Set the variable for whose turn it is\n",
    "is_turn = True\n",
    "\n",
    "while not game_exit:\n",
    "    \n",
    "    # Check the events\n",
    "    for event in pygame.event.get():\n",
    "        # If the event is quitting the applicaiton, then do so\n",
    "        if event.type == pygame.QUIT:\n",
    "            game_exit = True\n",
    "            \n",
    "        # If the event is clicking the mouse, then get the position\n",
    "        if event.type == pygame.MOUSEBUTTONUP:\n",
    "            pos = pygame.mouse.get_pos()\n",
    "            #print(pos)\n",
    "            x, y = int(pos[0] / cell_size), int(pos[1] / cell_size)\n",
    "            \n",
    "            # If this is the first piece we have chosen\n",
    "            if piece_to_move_chosen == False:\n",
    "                \n",
    "                # Change the background color of the cell\n",
    "                pygame.draw.rect(board, chosen_color, (x*cell_size, y*cell_size, cell_size, cell_size))\n",
    "                \n",
    "                # Change the variable to true\n",
    "                piece_to_move_chosen = True\n",
    "                \n",
    "                # Save the location of the chosen piece\n",
    "                chosen_piece = [x, y]\n",
    "                \n",
    "            # Check if a piece has been chosen and the selected tile does not match the chosen piece tile\n",
    "            elif piece_to_move_chosen == True and (x != chosen_piece[0] or y != chosen_piece[1]):\n",
    "                \n",
    "                ## Check that the move was valid using game code ##\n",
    "                \n",
    "                # Find out which color should be used\n",
    "                if (chosen_piece[0] + chosen_piece[1]) % 2 == 1:\n",
    "                    overwrite_color = black\n",
    "                else:\n",
    "                    overwrite_color = white\n",
    "                    \n",
    "                # Change the background color of the last location\n",
    "                pygame.draw.rect(board, overwrite_color, (chosen_piece[0]*cell_size, chosen_piece[1]*cell_size, cell_size, cell_size))\n",
    "                \n",
    "                # Set the variable to false\n",
    "                piece_to_move_chosen = False\n",
    "                \n",
    "                for color_locations in white_piece_locations, black_piece_locations:\n",
    "                    ## Move the piece to the new location ##\n",
    "                    for piece_name, locations in color_locations.items():\n",
    "                    \n",
    "                        # Loop through each location\n",
    "                        for location in locations:\n",
    "                        \n",
    "                            # Check if the location matches the old location, and change it to the new if so\n",
    "                            if location[0] == chosen_piece[0] and location[1] == chosen_piece[1]:\n",
    "                            \n",
    "                                # Change the location in the dictionary's memory\n",
    "                                location_list = locations.copy()\n",
    "                            \n",
    "                                # Remove the old location\n",
    "                                location_list.remove(location)\n",
    "                            \n",
    "                                # Append the new location\n",
    "                                location_list.append([x, y])\n",
    "                            \n",
    "                                # Change the list in the dictionary\n",
    "                                color_locations[piece_name] = location_list        \n",
    "                                break\n",
    "                \n",
    "            print(x, y)\n",
    "    \n",
    "    # Fill the display with the board\n",
    "    gameDisplay.blit(board, board.get_rect())\n",
    "    \n",
    "    ## Assumes that white is on the bottom\n",
    "    # Programmically draw the pieces on the board\n",
    "    for piece, positions in white_piece_locations.items():\n",
    "        # Go through each position of the piece\n",
    "        for position in positions:\n",
    "            gameDisplay.blit(white_pieces[piece], (cell_size*position[0], cell_size*position[1]))\n",
    "        \n",
    "    # Programmically draw the pieces on the board\n",
    "    for piece, positions in black_piece_locations.items():\n",
    "        # Go through each position of the piece\n",
    "        for position in positions:\n",
    "            gameDisplay.blit(black_pieces[piece], (cell_size*position[0], cell_size*position[1]))\n",
    "    \n",
    "    pygame.display.update()\n",
    "\n",
    "pygame.quit()\n",
    "#quit()"
   ]
  },
  {
   "cell_type": "code",
   "execution_count": 18,
   "id": "fdbfa7e5",
   "metadata": {},
   "outputs": [],
   "source": [
    "mv_string = 'Choose move: '"
   ]
  },
  {
   "cell_type": "code",
   "execution_count": 19,
   "id": "cbab9374",
   "metadata": {},
   "outputs": [
    {
     "name": "stdout",
     "output_type": "stream",
     "text": [
      "Choose move: A1\n"
     ]
    }
   ],
   "source": [
    "moving_piece = list(input(mv_string))\n",
    "moving_piece[0] = moving_piece[0].upper()\n",
    "moving_piece[1] = int(moving_piece[1])\n",
    "moving_piece = tuple(moving_piece)"
   ]
  },
  {
   "cell_type": "code",
   "execution_count": 20,
   "id": "e07a4519",
   "metadata": {},
   "outputs": [
    {
     "data": {
      "text/plain": [
       "('A', 1)"
      ]
     },
     "execution_count": 20,
     "metadata": {},
     "output_type": "execute_result"
    }
   ],
   "source": [
    "moving_piece"
   ]
  },
  {
   "cell_type": "code",
   "execution_count": 22,
   "id": "e5ef54ac",
   "metadata": {},
   "outputs": [
    {
     "data": {
      "text/plain": [
       "('C', 1)"
      ]
     },
     "execution_count": 22,
     "metadata": {},
     "output_type": "execute_result"
    }
   ],
   "source": [
    "tuple([letters_map[x], y])"
   ]
  },
  {
   "cell_type": "code",
   "execution_count": null,
   "id": "39498a39",
   "metadata": {},
   "outputs": [],
   "source": []
  }
 ],
 "metadata": {
  "kernelspec": {
   "display_name": "Python 3",
   "language": "python",
   "name": "python3"
  },
  "language_info": {
   "codemirror_mode": {
    "name": "ipython",
    "version": 3
   },
   "file_extension": ".py",
   "mimetype": "text/x-python",
   "name": "python",
   "nbconvert_exporter": "python",
   "pygments_lexer": "ipython3",
   "version": "3.8.5"
  }
 },
 "nbformat": 4,
 "nbformat_minor": 5
}
