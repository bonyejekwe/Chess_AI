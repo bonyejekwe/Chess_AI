{
 "cells": [
  {
   "cell_type": "code",
   "execution_count": 1,
   "id": "53077604",
   "metadata": {},
   "outputs": [],
   "source": [
    "# Ins\n",
    "#pip install pygame"
   ]
  },
  {
   "cell_type": "code",
   "execution_count": 2,
   "id": "4c8642ef",
   "metadata": {},
   "outputs": [
    {
     "name": "stdout",
     "output_type": "stream",
     "text": [
      "pygame 2.0.2 (SDL 2.0.16, Python 3.8.5)\n",
      "Hello from the pygame community. https://www.pygame.org/contribute.html\n"
     ]
    }
   ],
   "source": [
    "import pandas as pd\n",
    "\n",
    "import pygame"
   ]
  },
  {
   "cell_type": "code",
   "execution_count": 3,
   "id": "19164c20",
   "metadata": {},
   "outputs": [],
   "source": [
    "# Resource:\n",
    "# https://stackoverflow.com/questions/45945254/make-a-88-chessboard-in-pygame-with-python/45948976"
   ]
  },
  {
   "cell_type": "code",
   "execution_count": 4,
   "id": "7a721067",
   "metadata": {},
   "outputs": [
    {
     "data": {
      "text/plain": [
       "<rect(0, 0, 800, 800)>"
      ]
     },
     "execution_count": 4,
     "metadata": {},
     "output_type": "execute_result"
    }
   ],
   "source": [
    "#pygame.init()\n",
    "\n",
    "# set color with rgb\n",
    "#white, black = (255,255,255), (0,0,0)\n",
    "\n",
    "# \"Brown\" colors from chess.com\n",
    "white, black = (240, 217, 181), (181, 136, 99)\n",
    "\n",
    "# Define the width, height, and cell size\n",
    "width, height = 800, 800\n",
    "cell_size = width / 8.0\n",
    "\n",
    "# set caption\n",
    "pygame.display.set_caption(\"Chess Board\")\n",
    "\n",
    "# Create the board surface\n",
    "board = pygame.Surface((width, height))\n",
    "# Fill it with white\n",
    "board.fill(white)"
   ]
  },
  {
   "cell_type": "code",
   "execution_count": 5,
   "id": "f3b48af7",
   "metadata": {},
   "outputs": [],
   "source": [
    "# Load the chess pieces image\n",
    "# Each chess piece is 200x200 in the image\n",
    "# Image source: https://commons.wikimedia.org/wiki/Category:SVG_chess_pieces\n",
    "chess_pieces = pygame.image.load(r'chess_pieces_V2.png')"
   ]
  },
  {
   "cell_type": "code",
   "execution_count": 6,
   "id": "7585c89c",
   "metadata": {},
   "outputs": [],
   "source": [
    "# Draw black squares on the board\n",
    "# Loop through the x-axis\n",
    "for x in range(0, 8):\n",
    "    # Loop through the y-axis\n",
    "    for y in range(0, 8):\n",
    "        # If the \n",
    "        if (x + y) % 2 == 1:\n",
    "            pygame.draw.rect(board, black, (x*cell_size, y*cell_size, cell_size, cell_size))\n",
    "        "
   ]
  },
  {
   "cell_type": "code",
   "execution_count": 7,
   "id": "2cba3611",
   "metadata": {},
   "outputs": [],
   "source": [
    "# Define the possible pieces\n",
    "pos_pieces = ['king', 'queen', 'bishop', 'rook', 'horse', 'pawn']\n",
    "\n",
    "# Get the piece images\n",
    "white_pieces = {pos_pieces[i] : pygame.transform.scale(pygame.image.load(r'Piece Images/{}/{}.png'.format(\\\n",
    "                                        'white', pos_pieces[i])), (100, 100)) for i in range(len(pos_pieces))}\n",
    "\n",
    "# Get the piece images\n",
    "black_pieces = {pos_pieces[i] : pygame.transform.scale(pygame.image.load(r'Piece Images/{}/{}.png'.format(\\\n",
    "                                        'black', pos_pieces[i])), (100, 100)) for i in range(len(pos_pieces))}\n",
    "\n",
    "white_piece_locations = {'king': [[4, 7]], 'queen' : [[3, 7]], 'bishop' : [[2, 7], [5, 7]],\n",
    "                        'horse' : [[1, 7], [6, 7]], 'rook' : [[0,7], [7,7]],\n",
    "                        'pawn': [[i, 6] for i in range(8)]}\n",
    "\n",
    "black_piece_locations = {'king': [[4, 0]], 'queen' : [[3, 0]], 'bishop' : [[2, 0], [5, 0]],\n",
    "                        'horse' : [[1, 0], [6, 0]], 'rook' : [[0, 0], [7, 0]],\n",
    "                        'pawn': [[i, 1] for i in range(8)]}\n"
   ]
  },
  {
   "cell_type": "code",
   "execution_count": null,
   "id": "c60004f5",
   "metadata": {},
   "outputs": [],
   "source": [
    "# Logic to quit the game\n",
    "game_exit = False\n",
    "\n",
    "# set display\n",
    "gameDisplay = pygame.display.set_mode((width, height))\n",
    "\n",
    "while not game_exit:\n",
    "    \n",
    "    for event in pygame.event.get():\n",
    "        if event.type == pygame.QUIT:\n",
    "            game_exit = True\n",
    "    \n",
    "    # Fill the display with the board\n",
    "    gameDisplay.blit(board, board.get_rect())\n",
    "    \n",
    "    ## Assumes that white is on the bottom\n",
    "    # Programmically draw the pieces on the board\n",
    "    for piece, positions in white_piece_locations.items():\n",
    "        # Go through each position of the piece\n",
    "        for position in positions:\n",
    "            gameDisplay.blit(white_pieces[piece], (cell_size*position[0], cell_size*position[1]))\n",
    "        \n",
    "    # Programmically draw the pieces on the board\n",
    "    for piece, positions in black_piece_locations.items():\n",
    "        # Go through each position of the piece\n",
    "        for position in positions:\n",
    "            gameDisplay.blit(black_pieces[piece], (cell_size*position[0], cell_size*position[1]))\n",
    "    \n",
    "    pygame.display.update()\n",
    "\n",
    "pygame.quit()\n",
    "#quit()"
   ]
  },
  {
   "cell_type": "code",
   "execution_count": null,
   "id": "cbab9374",
   "metadata": {},
   "outputs": [],
   "source": []
  },
  {
   "cell_type": "code",
   "execution_count": null,
   "id": "e07a4519",
   "metadata": {},
   "outputs": [],
   "source": []
  }
 ],
 "metadata": {
  "kernelspec": {
   "display_name": "Python 3",
   "language": "python",
   "name": "python3"
  },
  "language_info": {
   "codemirror_mode": {
    "name": "ipython",
    "version": 3
   },
   "file_extension": ".py",
   "mimetype": "text/x-python",
   "name": "python",
   "nbconvert_exporter": "python",
   "pygments_lexer": "ipython3",
   "version": "3.8.5"
  }
 },
 "nbformat": 4,
 "nbformat_minor": 5
}
