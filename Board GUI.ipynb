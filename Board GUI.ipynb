{
 "cells": [
  {
   "cell_type": "code",
   "execution_count": 1,
   "id": "53077604",
   "metadata": {},
   "outputs": [],
   "source": [
    "# Ins\n",
    "#pip install pygame"
   ]
  },
  {
   "cell_type": "code",
   "execution_count": 2,
   "id": "4c8642ef",
   "metadata": {},
   "outputs": [
    {
     "name": "stdout",
     "output_type": "stream",
     "text": [
      "pygame 2.0.2 (SDL 2.0.16, Python 3.8.5)\n",
      "Hello from the pygame community. https://www.pygame.org/contribute.html\n"
     ]
    }
   ],
   "source": [
    "import pandas as pd\n",
    "\n",
    "import pygame"
   ]
  },
  {
   "cell_type": "code",
   "execution_count": 3,
   "id": "19164c20",
   "metadata": {},
   "outputs": [],
   "source": [
    "# Resource:\n",
    "# https://stackoverflow.com/questions/45945254/make-a-88-chessboard-in-pygame-with-python/45948976"
   ]
  },
  {
   "cell_type": "code",
   "execution_count": 35,
   "id": "7a721067",
   "metadata": {},
   "outputs": [
    {
     "data": {
      "text/plain": [
       "<rect(0, 0, 800, 800)>"
      ]
     },
     "execution_count": 35,
     "metadata": {},
     "output_type": "execute_result"
    }
   ],
   "source": [
    "pygame.init()\n",
    "\n",
    "# set color with rgb\n",
    "white, black = (255,255,255), (0,0,0)\n",
    "\n",
    "# Define the width, height, and cell size\n",
    "width, height = 800, 800\n",
    "cellSize = width / 8.0\n",
    "\n",
    "# set display\n",
    "gameDisplay = pygame.display.set_mode((width, height))\n",
    "\n",
    "# set caption\n",
    "pygame.display.set_caption(\"Chess Board\")\n",
    "\n",
    "\n",
    "# Create the board surface\n",
    "board = pygame.Surface((width, height))\n",
    "# Fill it with white\n",
    "board.fill(white)"
   ]
  },
  {
   "cell_type": "code",
   "execution_count": 36,
   "id": "f3b48af7",
   "metadata": {},
   "outputs": [],
   "source": [
    "# Load the chess pieces image\n",
    "# Each chess piece is 200x200 in the image\n",
    "# Image source: https://commons.wikimedia.org/wiki/Category:SVG_chess_pieces\n",
    "chess_pieces = pygame.image.load(r'chess_pieces_V2.png')"
   ]
  },
  {
   "cell_type": "code",
   "execution_count": 31,
   "id": "c9394ad0",
   "metadata": {},
   "outputs": [
    {
     "ename": "ValueError",
     "evalue": "subsurface rectangle outside surface area",
     "output_type": "error",
     "traceback": [
      "\u001b[0;31m---------------------------------------------------------------------------\u001b[0m",
      "\u001b[0;31mValueError\u001b[0m                                Traceback (most recent call last)",
      "\u001b[0;32m<ipython-input-31-2bb8a0fa774e>\u001b[0m in \u001b[0;36m<module>\u001b[0;34m\u001b[0m\n\u001b[1;32m      6\u001b[0m \u001b[0mwhite_queen\u001b[0m \u001b[0;34m=\u001b[0m \u001b[0mchess_pieces\u001b[0m\u001b[0;34m.\u001b[0m\u001b[0msubsurface\u001b[0m\u001b[0;34m(\u001b[0m\u001b[0;34m(\u001b[0m\u001b[0mpiece_length\u001b[0m\u001b[0;34m,\u001b[0m \u001b[0;36m0\u001b[0m\u001b[0;34m,\u001b[0m \u001b[0;36m2\u001b[0m\u001b[0;34m*\u001b[0m\u001b[0mpiece_length\u001b[0m\u001b[0;34m,\u001b[0m \u001b[0mpiece_length\u001b[0m\u001b[0;34m)\u001b[0m\u001b[0;34m)\u001b[0m\u001b[0;34m\u001b[0m\u001b[0;34m\u001b[0m\u001b[0m\n\u001b[1;32m      7\u001b[0m \u001b[0mwhite_bishop\u001b[0m \u001b[0;34m=\u001b[0m \u001b[0mchess_pieces\u001b[0m\u001b[0;34m.\u001b[0m\u001b[0msubsurface\u001b[0m\u001b[0;34m(\u001b[0m\u001b[0;34m(\u001b[0m\u001b[0;36m2\u001b[0m\u001b[0;34m*\u001b[0m\u001b[0mpiece_length\u001b[0m\u001b[0;34m,\u001b[0m \u001b[0;36m0\u001b[0m\u001b[0;34m,\u001b[0m \u001b[0;36m3\u001b[0m\u001b[0;34m*\u001b[0m\u001b[0mpiece_length\u001b[0m\u001b[0;34m,\u001b[0m \u001b[0mpiece_length\u001b[0m\u001b[0;34m)\u001b[0m\u001b[0;34m)\u001b[0m\u001b[0;34m\u001b[0m\u001b[0;34m\u001b[0m\u001b[0m\n\u001b[0;32m----> 8\u001b[0;31m \u001b[0mwhite_knight\u001b[0m \u001b[0;34m=\u001b[0m \u001b[0mchess_pieces\u001b[0m\u001b[0;34m.\u001b[0m\u001b[0msubsurface\u001b[0m\u001b[0;34m(\u001b[0m\u001b[0;34m(\u001b[0m\u001b[0;36m3\u001b[0m\u001b[0;34m*\u001b[0m\u001b[0mpiece_length\u001b[0m\u001b[0;34m,\u001b[0m \u001b[0;36m0\u001b[0m\u001b[0;34m,\u001b[0m \u001b[0;36m4\u001b[0m\u001b[0;34m*\u001b[0m\u001b[0mpiece_length\u001b[0m\u001b[0;34m,\u001b[0m \u001b[0mpiece_length\u001b[0m\u001b[0;34m)\u001b[0m\u001b[0;34m)\u001b[0m\u001b[0;34m\u001b[0m\u001b[0;34m\u001b[0m\u001b[0m\n\u001b[0m\u001b[1;32m      9\u001b[0m \u001b[0mwhite_rook\u001b[0m \u001b[0;34m=\u001b[0m \u001b[0mchess_pieces\u001b[0m\u001b[0;34m.\u001b[0m\u001b[0msubsurface\u001b[0m\u001b[0;34m(\u001b[0m\u001b[0;34m(\u001b[0m\u001b[0;36m4\u001b[0m\u001b[0;34m*\u001b[0m\u001b[0mpiece_length\u001b[0m\u001b[0;34m,\u001b[0m \u001b[0;36m0\u001b[0m\u001b[0;34m,\u001b[0m \u001b[0;36m5\u001b[0m\u001b[0;34m*\u001b[0m\u001b[0mpiece_length\u001b[0m\u001b[0;34m,\u001b[0m \u001b[0mpiece_length\u001b[0m\u001b[0;34m)\u001b[0m\u001b[0;34m)\u001b[0m\u001b[0;34m\u001b[0m\u001b[0;34m\u001b[0m\u001b[0m\n\u001b[1;32m     10\u001b[0m \u001b[0mwhite_pawn\u001b[0m \u001b[0;34m=\u001b[0m \u001b[0mchess_pieces\u001b[0m\u001b[0;34m.\u001b[0m\u001b[0msubsurface\u001b[0m\u001b[0;34m(\u001b[0m\u001b[0;34m(\u001b[0m\u001b[0;36m5\u001b[0m\u001b[0;34m*\u001b[0m\u001b[0mpiece_length\u001b[0m\u001b[0;34m,\u001b[0m \u001b[0;36m0\u001b[0m\u001b[0;34m,\u001b[0m \u001b[0;36m6\u001b[0m\u001b[0;34m*\u001b[0m\u001b[0mpiece_length\u001b[0m\u001b[0;34m,\u001b[0m \u001b[0mpiece_length\u001b[0m\u001b[0;34m)\u001b[0m\u001b[0;34m)\u001b[0m\u001b[0;34m\u001b[0m\u001b[0;34m\u001b[0m\u001b[0m\n",
      "\u001b[0;31mValueError\u001b[0m: subsurface rectangle outside surface area"
     ]
    }
   ],
   "source": [
    "\n",
    "\n",
    "image_length = 1200\n",
    "piece_length = 200\n",
    "\n",
    "# Define the white pieces\n",
    "white_king = chess_pieces.subsurface((0,             0, piece_length, piece_length))\n",
    "white_queen = chess_pieces.subsurface((piece_length, 0, 2*piece_length, piece_length))\n",
    "white_bishop = chess_pieces.subsurface((2*piece_length, 0, 3*piece_length, piece_length))\n",
    "white_knight = chess_pieces.subsurface((3*piece_length, 0, 4*piece_length, piece_length))\n",
    "white_rook = chess_pieces.subsurface((4*piece_length, 0, 5*piece_length, piece_length))\n",
    "white_pawn = chess_pieces.subsurface((5*piece_length, 0, 6*piece_length, piece_length))\n",
    "\n",
    "# Define the black pieces\n",
    "black_king = chess_pieces.subsurface((0,             piece_length, piece_length, 2*piece_length))\n",
    "black_queen = chess_pieces.subsurface((piece_length, piece_length, 2*piece_length, 2*piece_length))\n",
    "black_bishop = chess_pieces.subsurface((2*piece_length, piece_length, 3*piece_length, 2*piece_length))\n",
    "black_knight = chess_pieces.subsurface((3*piece_length, piece_length, 4*piece_length, 2*piece_length))\n",
    "black_rook = chess_pieces.subsurface((4*piece_length, piece_length, 5*piece_length, 2*piece_length))\n",
    "black_pawn = chess_pieces.subsurface((5*piece_length, piece_length, 6*piece_length, 2*piece_length))\n",
    "\n",
    "# Size down the pieces\n",
    "white_pieces = [white_king, white_queen, white_bishop, white_knight, white_rook, white_pawn]\n",
    "black_pieces = [black_king, black_queen, black_bishop, black_knight, black_rook, black_pawn]\n",
    "\n",
    "# Transform the scale of each piece\n",
    "[pygame.transform.scale(piece, (100, 100)) for piece in white_pieces]\n",
    "[pygame.transform.scale(piece, (100, 100)) for piece in black_pieces]\n",
    "\n",
    "\n",
    "#chess_pieces = pygame.transform.scale(chess_pieces, (600, 200))"
   ]
  },
  {
   "cell_type": "code",
   "execution_count": 37,
   "id": "7585c89c",
   "metadata": {},
   "outputs": [],
   "source": [
    "# Draw black squares on the board\n",
    "# Loop through the x-axis\n",
    "for x in range(0, 8):\n",
    "    # Loop through the y-axis\n",
    "    for y in range(0, 8):\n",
    "        # If the \n",
    "        if (x + y) % 2 == 1:\n",
    "            pygame.draw.rect(board, black, (x*cellSize, y*cellSize, cellSize, cellSize))\n",
    "        "
   ]
  },
  {
   "cell_type": "code",
   "execution_count": 38,
   "id": "c60004f5",
   "metadata": {},
   "outputs": [],
   "source": [
    "# Logic to quit the game\n",
    "game_exit = False\n",
    "while not game_exit:\n",
    "    for event in pygame.event.get():\n",
    "        if event.type == pygame.QUIT:\n",
    "            game_exit = True\n",
    "\n",
    "    # Fill the display with the board\n",
    "    gameDisplay.blit(board, board.get_rect())\n",
    "    \n",
    "    # Put the pieces on the board\n",
    "    gameDisplay.blit(chess_pieces, (0, 0))\n",
    "    \n",
    "    pygame.display.update()\n",
    "\n",
    "pygame.quit()\n",
    "#quit()"
   ]
  },
  {
   "cell_type": "code",
   "execution_count": null,
   "id": "cbab9374",
   "metadata": {},
   "outputs": [],
   "source": []
  },
  {
   "cell_type": "code",
   "execution_count": null,
   "id": "e07a4519",
   "metadata": {},
   "outputs": [],
   "source": []
  }
 ],
 "metadata": {
  "kernelspec": {
   "display_name": "Python 3",
   "language": "python",
   "name": "python3"
  },
  "language_info": {
   "codemirror_mode": {
    "name": "ipython",
    "version": 3
   },
   "file_extension": ".py",
   "mimetype": "text/x-python",
   "name": "python",
   "nbconvert_exporter": "python",
   "pygments_lexer": "ipython3",
   "version": "3.8.5"
  }
 },
 "nbformat": 4,
 "nbformat_minor": 5
}
